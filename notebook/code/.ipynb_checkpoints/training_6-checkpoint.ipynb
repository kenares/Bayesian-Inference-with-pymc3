{
 "cells": [
  {
   "cell_type": "code",
   "execution_count": 1,
   "metadata": {
    "collapsed": false
   },
   "outputs": [],
   "source": [
    "import numpy as np\n",
    "import re\n",
    "import sys\n",
    "import seaborn as sns\n",
    "import warnings\n",
    "import pandas as pd\n",
    "import patsy as pt ##help building design Matrix with a one-to-many relatioship\n",
    "import scipy\n",
    "\n",
    "import pymc3 as pm\n",
    "import theano.tensor as T\n",
    "import theano\n",
    "from matplotlib import pyplot as plt\n",
    "\n",
    "warnings.filterwarnings('ignore')\n",
    "\n",
    "sns.set(style = \"darkgrid\", palette = \"muted\")\n",
    "pd.set_option(\"display.mpl_style\", \"default\")\n",
    "plt.rcParams[\"figure.figsize\"] = 14, 6\n",
    "np.random.seed(0)\n",
    "%matplotlib inline"
   ]
  },
  {
   "cell_type": "code",
   "execution_count": 2,
   "metadata": {
    "collapsed": true
   },
   "outputs": [],
   "source": [
    "import json\n",
    "import matplotlib\n",
    "root = r'C:\\\\Users\\\\admin\\\\Desktop\\\\Python_Prog\\\\PyMC3\\\\Styles\\\\bmh_matplotlibrc.json'\n",
    "s = json.load(open(root))\n",
    "matplotlib.rcParams.update(s)\n",
    "colors = [\"#348ABD\", \"#A60628\", \"#7A68A6\", \"#467821\"]"
   ]
  },
  {
   "cell_type": "markdown",
   "metadata": {},
   "source": [
    "#### GLM : Poisson Regression\n",
    "A minimal reproductable example of poisson regression to predict counts using dummy data"
   ]
  },
  {
   "cell_type": "code",
   "execution_count": 3,
   "metadata": {
    "collapsed": true
   },
   "outputs": [],
   "source": [
    "def strip_derived_rvs(rvs):\n",
    "    \"\"\"\n",
    "    Convenience  function:\n",
    "        remove PyMC3-generated RVs from a list\n",
    "    \"\"\"\n",
    "    ret_rvs = []\n",
    "    for rv in rvs:\n",
    "        if not (re.search(\"_log\", rv.name) or re.search(\"_interval\", rv.name)):\n",
    "            ret_rvs.append(rv)\n",
    "    return ret_rvs\n",
    "\n",
    "def plot_traces_pymc(traces, varnames = None):\n",
    "    \"\"\"\n",
    "    Convenience function:\n",
    "        plot trace with overlaid means and values\n",
    "    \"\"\"\n",
    "    \n",
    "    nrows = len(trace.varnames)\n",
    "    if varnames is not None:\n",
    "        nrows = len(varnames)\n",
    "    ax = pm.traceplot(trace, varnames = varnames, figsize = (12, nrows*1.4),\n",
    "                     lines = {k: v['mean'] for k, v in pm.df_summary(trace, varnames = varnames).iterrows()})\n",
    "    \n",
    "    for i, mn in enumerate(pm.df_summary(trace, varnames = varnames)['mean']):\n",
    "        ax[i, 0].annotate(\"{:.2f}\".format(mn), xy = (mn, 0), xycoords = \"data\", xytext = (5, 10),\n",
    "                         textcoords = \"offset points\", rotation = 90, va= \"bottom\", fontsize = \"large\",\n",
    "                         color = \"#AA0022\")\n",
    "        "
   ]
  },
  {
   "cell_type": "markdown",
   "metadata": {},
   "source": [
    "### Generate data\n",
    "1. the subject sneezes N times per day, recorded ad $nsneeze(int)$.\n",
    "2. The subject may or may not drin alcohol during that day, recorded as $alcohol(boolean)$.\n",
    "3. The subject may or may not take an antihistamine medication during that day, recorded as the negative action $nomeds(boolean)$.\n",
    "4. The sampler postulatethat sneezing occurs at some baseline rate, which increase if an antihistamine is not taken, and futher increased after alcohol is consumed.\n",
    "5. The data is aggregated per day, to yield a total count of sneezes on that day, with a boolean flag for alcohol and antihistaline usage, with the big assumption that nsneezes have a direct causal relationship.\n"
   ]
  },
  {
   "cell_type": "code",
   "execution_count": 4,
   "metadata": {
    "collapsed": false
   },
   "outputs": [
    {
     "data": {
      "text/html": [
       "<div>\n",
       "<table border=\"1\" class=\"dataframe\">\n",
       "  <thead>\n",
       "    <tr style=\"text-align: right;\">\n",
       "      <th></th>\n",
       "      <th>alcohol</th>\n",
       "      <th>nomeds</th>\n",
       "      <th>nsneeze</th>\n",
       "    </tr>\n",
       "  </thead>\n",
       "  <tbody>\n",
       "    <tr>\n",
       "      <th>3995</th>\n",
       "      <td>True</td>\n",
       "      <td>True</td>\n",
       "      <td>38</td>\n",
       "    </tr>\n",
       "    <tr>\n",
       "      <th>3996</th>\n",
       "      <td>True</td>\n",
       "      <td>True</td>\n",
       "      <td>31</td>\n",
       "    </tr>\n",
       "    <tr>\n",
       "      <th>3997</th>\n",
       "      <td>True</td>\n",
       "      <td>True</td>\n",
       "      <td>30</td>\n",
       "    </tr>\n",
       "    <tr>\n",
       "      <th>3998</th>\n",
       "      <td>True</td>\n",
       "      <td>True</td>\n",
       "      <td>34</td>\n",
       "    </tr>\n",
       "    <tr>\n",
       "      <th>3999</th>\n",
       "      <td>True</td>\n",
       "      <td>True</td>\n",
       "      <td>36</td>\n",
       "    </tr>\n",
       "  </tbody>\n",
       "</table>\n",
       "</div>"
      ],
      "text/plain": [
       "     alcohol nomeds  nsneeze\n",
       "3995    True   True       38\n",
       "3996    True   True       31\n",
       "3997    True   True       30\n",
       "3998    True   True       34\n",
       "3999    True   True       36"
      ]
     },
     "execution_count": 4,
     "metadata": {},
     "output_type": "execute_result"
    }
   ],
   "source": [
    "## decide poisson theta values\n",
    "\n",
    "theta_noalcohol_meds = 1 # no alcohol, took an antihist\n",
    "theta_alcohol_meds = 3  # alcohol, to an antihist\n",
    "theta_noalcohol_nomeds = 6 # no alcohol, no antihist\n",
    "theta_alcohol_nomeds = 36 # alcohol, no antihist\n",
    "\n",
    "## create samples\n",
    "\n",
    "q = 1000\n",
    "df = pd.DataFrame({\n",
    "        'nsneeze': np.concatenate((np.random.poisson(theta_noalcohol_meds, q),\n",
    "                                 np.random.poisson(theta_alcohol_meds, q),\n",
    "                                 np.random.poisson(theta_noalcohol_nomeds, q),\n",
    "                                 np.random.poisson(theta_alcohol_nomeds, q))),\n",
    "        \n",
    "        'alcohol': np.concatenate((np.repeat(False, q),\n",
    "                                 np.repeat(True, q),\n",
    "                                 np.repeat(False, q),\n",
    "                                 np.repeat(True, q))),\n",
    "        \n",
    "        'nomeds' : np.concatenate((np.repeat(False, q),\n",
    "                                 np.repeat(False, q), \n",
    "                                 np.repeat(True, q),\n",
    "                                 np.repeat(True, q)))\n",
    "    })\n",
    "df.tail()"
   ]
  },
  {
   "cell_type": "code",
   "execution_count": 5,
   "metadata": {
    "collapsed": false
   },
   "outputs": [
    {
     "data": {
      "image/png": "[encoded data removed]",
      "text/plain": [
       "<matplotlib.figure.Figure at 0xb989f98>"
      ]
     },
     "metadata": {},
     "output_type": "display_data"
    }
   ],
   "source": [
    "g = sns.factorplot(x = \"nsneeze\", row = \"nomeds\", col = \"alcohol\", data = df,\n",
    "                  kind = \"count\", size = 4, aspect = 1.5)"
   ]
  },
  {
   "cell_type": "markdown",
   "metadata": {},
   "source": [
    "Our model is a very simple $Poisson$ $regression$ allowing for interaction of terms : \n",
    "\n",
    "\n",
    "$$\\begin{aligned}\n",
    "  \\theta &\\sim \\mathcal{Exp}(\\beta X) \\\\\n",
    "  Y_{SneezeCount} &\\sim \\mathcal{Poisson}(\\theta) \\\\\n",
    "\\end{aligned}$$"
   ]
  },
  {
   "cell_type": "code",
   "execution_count": null,
   "metadata": {
    "collapsed": false
   },
   "outputs": [
    {
     "data": {
      "text/html": [
       "<div>\n",
       "<table border=\"1\" class=\"dataframe\">\n",
       "  <thead>\n",
       "    <tr style=\"text-align: right;\">\n",
       "      <th></th>\n",
       "      <th>Intercept</th>\n",
       "      <th>alcohol[T.True]</th>\n",
       "      <th>nomeds[T.True]</th>\n",
       "      <th>alcohol[T.True]:nomeds[T.True]</th>\n",
       "    </tr>\n",
       "  </thead>\n",
       "  <tbody>\n",
       "    <tr>\n",
       "      <th>0</th>\n",
       "      <td>1.0</td>\n",
       "      <td>0.0</td>\n",
       "      <td>0.0</td>\n",
       "      <td>0.0</td>\n",
       "    </tr>\n",
       "    <tr>\n",
       "      <th>1</th>\n",
       "      <td>1.0</td>\n",
       "      <td>0.0</td>\n",
       "      <td>0.0</td>\n",
       "      <td>0.0</td>\n",
       "    </tr>\n",
       "    <tr>\n",
       "      <th>2</th>\n",
       "      <td>1.0</td>\n",
       "      <td>0.0</td>\n",
       "      <td>0.0</td>\n",
       "      <td>0.0</td>\n",
       "    </tr>\n",
       "    <tr>\n",
       "      <th>3997</th>\n",
       "      <td>1.0</td>\n",
       "      <td>1.0</td>\n",
       "      <td>1.0</td>\n",
       "      <td>1.0</td>\n",
       "    </tr>\n",
       "    <tr>\n",
       "      <th>3998</th>\n",
       "      <td>1.0</td>\n",
       "      <td>1.0</td>\n",
       "      <td>1.0</td>\n",
       "      <td>1.0</td>\n",
       "    </tr>\n",
       "    <tr>\n",
       "      <th>3999</th>\n",
       "      <td>1.0</td>\n",
       "      <td>1.0</td>\n",
       "      <td>1.0</td>\n",
       "      <td>1.0</td>\n",
       "    </tr>\n",
       "  </tbody>\n",
       "</table>\n",
       "</div>"
      ],
      "text/plain": [
       "      Intercept  alcohol[T.True]  nomeds[T.True]  \\\n",
       "0           1.0              0.0             0.0   \n",
       "1           1.0              0.0             0.0   \n",
       "2           1.0              0.0             0.0   \n",
       "3997        1.0              1.0             1.0   \n",
       "3998        1.0              1.0             1.0   \n",
       "3999        1.0              1.0             1.0   \n",
       "\n",
       "      alcohol[T.True]:nomeds[T.True]  \n",
       "0                                0.0  \n",
       "1                                0.0  \n",
       "2                                0.0  \n",
       "3997                             1.0  \n",
       "3998                             1.0  \n",
       "3999                             1.0  "
      ]
     },
     "execution_count": 6,
     "metadata": {},
     "output_type": "execute_result"
    }
   ],
   "source": [
    "fml = 'nsneeze ~ alcohol + nomeds + alcohol:nomeds'# full patsy formulation\n",
    "#fml = 'nsneeze ~ alcohol * nomeds' # alternative lazy patsy formulation\n",
    "(mx_en, mx_ex) = pt.dmatrices(fml, df, return_type = 'dataframe', NA_action = 'raise')\n",
    "pd.concat((mx_ex.head(3), mx_ex.tail(3)))"
   ]
  },
  {
   "cell_type": "code",
   "execution_count": null,
   "metadata": {
    "collapsed": false
   },
   "outputs": [
    {
     "name": "stdout",
     "output_type": "stream",
     "text": [
      "Optimization terminated successfully.\n",
      "         Current function value: 8723.943403\n",
      "         Iterations: 9\n",
      "         Function evaluations: 445\n"
     ]
    }
   ],
   "source": [
    "with pm.Model() as PoiReg_model:\n",
    "    \n",
    "    ## define priors, weakly informative normal\n",
    "    b0 = pm.Normal(\"Intercept\", mu = 0, sd = 10)\n",
    "    b1 = pm.Normal(\"alcohol[T.True]\", mu = 0, sd = 10)\n",
    "    b2 = pm.Normal(\"nomeds[T.True]\", mu = 0, sd = 10)\n",
    "    b3 = pm.Normal(\"alcohol[T.True]:nomeds[T.True]\", mu = 0, sd = 10)\n",
    "    \n",
    "    ## define linear model and ex link function\n",
    "    theta =( b0 * mx_ex['Intercept'] + \n",
    "             b1 * mx_ex['alcohol[T.True]'] + \n",
    "             b2 * mx_ex['nomeds[T.True]'] + \n",
    "             b3 * mx_ex['alcohol[T.True]:nomeds[T.True]'] )\n",
    "    \n",
    "    ## Likelihood\n",
    "    sneeze_like = pm.Poisson(\"obs\", mu = np.exp(theta), observed = mx_en['nsneeze'].values)\n",
    "    \n",
    "    ## Optimization\n",
    "    start = pm.find_MAP(fmin = scipy.optimize.fmin_powell)\n",
    "    step = pm.NUTS(scaling = start)\n",
    "    \n",
    "    ## Sampling\n",
    "    trace = pm.sample(20000, start = start, step = step, njobs = 2)\n",
    "    burned_PoiRegression = trace[10000:]  "
   ]
  },
  {
   "cell_type": "code",
   "execution_count": null,
   "metadata": {
    "collapsed": false
   },
   "outputs": [],
   "source": [
    "rvs_ = [rv.name for rv in strip_derived_rvs(PoiReg_model.unobserved_RVs)]\n",
    "plot_traces_pymc(burned_PoiRegression, varnames = rvs_)"
   ]
  },
  {
   "cell_type": "code",
   "execution_count": null,
   "metadata": {
    "collapsed": false
   },
   "outputs": [],
   "source": [
    "np.exp(pm.df_summary(burned_PoiRegression, varnames = rvs_)[['mean', 'hpd_2.5', 'hpd_97.5']])"
   ]
  },
  {
   "cell_type": "markdown",
   "metadata": {},
   "source": [
    "Observe | The contributions from each feature as a multiplier of the baseline sneezecount appear to be as per the data generation:\n",
    "    1. exp(b0_intercept): mean = 1.02 cr = [0.96, 1.08]\n",
    "       Roughly linear baseline count when no alcohol and meds, as per the generated data:\n",
    "            theta_noalcohol_meds = 1 (as set above) theta_noalcohol_meds = exp(b0_intercept) = 1\n",
    "            \n",
    "    2. exp(b1_alcohol): mean = 2.88 cr = [2.69, 3.09]\n",
    "        non-zero positive effect of adding alcohol, a ~3x multiplier of baseline sneeze count, as per the generated data:\n",
    "        theta_alcohol_meds = 3 (as set above) theta_alcohol_meds = exp(b0_intercept + b1_alcohol) = exp(b0_intercept) *               exp(b1_alcohol) = 1 * 3 = 3\n",
    "    \n",
    "    3. exp(b2_nomeds[T.True]): mean = 5.76 cr = [5.40, 6.17]\n",
    "       larger, non-zero positive effect of adding nomeds, a ~6x multiplier of baseline sneeze count, as per the generated data:\n",
    "       theta_noalcohol_nomeds = 6 (as set above) theta_noalcohol_nomeds = exp(b0_intercept + b2_nomeds) = exp(b0_intercept) * exp(b2_nomeds) = 1 * 6 = 6\n",
    "     \n",
    "    4. exp(b3_alcohol[T.True]:nomeds[T.True]): mean = 2.12 cr = [1.98, 2.30]\n",
    "       small, positive interaction effect of alcohol and meds, a ~2x multiplier of baseline sneeze count, as per the generated data:\n",
    "       theta_alcohol_nomeds = 36 (as set above) theta_alcohol_nomeds = exp(b0_intercept + b1_alcohol + b2_nomeds + b3_alcohol:nomeds) = exp(b0_intercept) * exp(b1_alcohol) * exp(b2_nomeds * b3_alcohol:nomeds) = 1 * 3 * 6 * 2 = 36\n",
    "\n"
   ]
  },
  {
   "cell_type": "code",
   "execution_count": null,
   "metadata": {
    "collapsed": false
   },
   "outputs": [],
   "source": [
    "## Alternative method\n",
    "with pm.Model() as PoiReg_model_alt:\n",
    "    \n",
    "    family = pm.glm.families.Poisson()\n",
    "    pm.glm.glm(fml, df, family = family)\n",
    "    \n",
    "    ## Optimization\n",
    "    start = pm.find_MAP(fmin = scipy.optimize.fmin_powell)\n",
    "    step = pm.NUTS(scaling = start)\n",
    "    \n",
    "    ## Sampling\n",
    "    trace_alt = pm.sample(20000, start = start, step = step, njobs = 1)\n",
    "    burned_PoiReg_alt = trace_alt[10000:]"
   ]
  },
  {
   "cell_type": "code",
   "execution_count": null,
   "metadata": {
    "collapsed": false
   },
   "outputs": [],
   "source": [
    "rvs_ = [rv.name for rv in strip_derived_rvs(PoiReg_model_alt.unobserved_RVs)]\n",
    "plot_traces_pymc(burned_PoiReg_alt, varnames = rvs_)"
   ]
  },
  {
   "cell_type": "code",
   "execution_count": null,
   "metadata": {
    "collapsed": false
   },
   "outputs": [],
   "source": [
    "np.exp(pm.df_summary(burned_PoiReg_alt, varnames = rvs_)[['mean', 'hpd_2.5', 'hpd_97.5']])"
   ]
  },
  {
   "cell_type": "markdown",
   "metadata": {
    "collapsed": true
   },
   "source": [
    "#### GLM : Negative Binomial Regression\n",
    "This part demonstrate $negative$ $binomial$ $Regression$ using $glm$ submodule.\n",
    "As in the Poisson regression above, we assume that sneezing occurs at some baseline rate, and that consuming alcohol,not taking antihistamines,or doing both increase its frequency."
   ]
  },
  {
   "cell_type": "code",
   "execution_count": null,
   "metadata": {
    "collapsed": true
   },
   "outputs": [],
   "source": [
    "df.goupby(['nomeds', 'alcohol'])['nsneeze'].agg(['mean', 'var'])\n",
    "## Since the mean and the variance of a Poisson distributed random variable are equal, \n",
    "##the sample means and variances are very close"
   ]
  },
  {
   "cell_type": "markdown",
   "metadata": {},
   "source": [
    "Now,let's suppose every subject in the dataset had the flu, increasing the variance of their sneezing(and causing unfortunate few to sneeze over 70 tiles a day). If the meannumber of sneezes stays the same but variance increases, the data might follow a negative binomial distribution."
   ]
  },
  {
   "cell_type": "code",
   "execution_count": null,
   "metadata": {
    "collapsed": true
   },
   "outputs": [],
   "source": [
    "## Gamma shape parameter\n",
    "alpha = 10\n",
    "\n",
    "def get_nb_vals(mu, alpha, size):\n",
    "    \"\"\"\n",
    "    Convenience function:\n",
    "        Generate negative binomially distributed samples by drawing a sample\n",
    "        from a gamma distribution with mean 'mu' and shape parameter 'alpha' \n",
    "        then drawing from a Poisson distribution whose rate parameter is given\n",
    "        by the sampled gamma variable\n",
    "        \n",
    "    \"\"\"\n",
    "    g = scipy.stats.gamma.rvs(alpha, scale = mu/alpha, size = size)\n",
    "    \n",
    "    return scipy.stats.Poisson.rvs(g)\n",
    "\n",
    "## Create samples\n",
    "n = 1000\n",
    "\n",
    "df = pd.DataFrame({\n",
    "        'nsneeze': np.concatenate((get_nb_vals(theta_noalcohol_meds, alpha, n),\n",
    "                                  get_nb_vals(theta_alcohol_meds, alpha, n),\n",
    "                                  get_nb_vals(theta_noalcohol_nomeds, alpha, n),\n",
    "                                  get_nb_vals(theta_alcohol_no_meds, alpha, n))),\n",
    "        \n",
    "        'alcohol': np.concatenate((np.repeat(False, n),\n",
    "                                  np.repeat(True, n),\n",
    "                                  np.repeat(False, n),\n",
    "                                  np.repeat(True, n))),\n",
    "        \n",
    "        'nomeds' : np.concatenate((np.repeat(False,n),\n",
    "                                  np.repeat(False, n),\n",
    "                                  np.repeat(True, n),\n",
    "                                  np.repeat(True, n)))\n",
    "    })\n",
    "\n",
    "df.groupby(['nomeds', 'alcohol'])['nsneeze'].agg(['mean', 'var'])"
   ]
  },
  {
   "cell_type": "markdown",
   "metadata": {},
   "source": [
    "As in the Poisson Regression, we see that drinking alcohol and/or not taking antihostamines increase the sneesing rate to varying degrees. Unlike that examples, for each combination od $alcohol$ and $nomeds$, the $variance$ of $nsneeze is higher than the mean. This suggest that a Poisson distribution would be a poor fit for the data since the mean and variance of a Poisson distribution are equal."
   ]
  },
  {
   "cell_type": "code",
   "execution_count": null,
   "metadata": {
    "collapsed": true
   },
   "outputs": [],
   "source": [
    "g = sns.factorplot(x = 'nsneeze', row = 'nomeds', col = 'alcohol', data = df, kind = 'count',\n",
    "                  aspect = 1.5)\n"
   ]
  }
 ],
 "metadata": {
  "anaconda-cloud": {},
  "kernelspec": {
   "display_name": "Python [Root]",
   "language": "python",
   "name": "Python [Root]"
  },
  "language_info": {
   "codemirror_mode": {
    "name": "ipython",
    "version": 3
   },
   "file_extension": ".py",
   "mimetype": "text/x-python",
   "name": "python",
   "nbconvert_exporter": "python",
   "pygments_lexer": "ipython3",
   "version": "3.5.2"
  }
 },
 "nbformat": 4,
 "nbformat_minor": 0
}
